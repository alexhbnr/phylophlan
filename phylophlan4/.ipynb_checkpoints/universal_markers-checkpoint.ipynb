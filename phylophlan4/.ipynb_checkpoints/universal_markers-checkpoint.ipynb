{
 "cells": [
  {
   "cell_type": "code",
   "execution_count": 1,
   "metadata": {},
   "outputs": [],
   "source": [
    "import os\n",
    "import pandas as pd\n",
    "import numpy as np"
   ]
  },
  {
   "cell_type": "markdown",
   "metadata": {},
   "source": [
    "# ~Find if there are missing annotated GFF~"
   ]
  },
  {
   "cell_type": "code",
   "execution_count": null,
   "metadata": {},
   "outputs": [],
   "source": [
    "base_path = '/shares/CIBIO-Storage/CM/scratch/databases/MetaRefSGB/resources/Jan21/genomes_annotations/prokka-1.14'"
   ]
  },
  {
   "cell_type": "code",
   "execution_count": null,
   "metadata": {
    "scrolled": true
   },
   "outputs": [],
   "source": [
    "for f1 in os.listdir(base_path):\n",
    "    for f2 in os.listdir(os.path.join(base_path, f1)):\n",
    "        if not os.path.isfile(os.path.join(base_path, f1, f2, f2 + '.annotated_gff')):\n",
    "            print(os.path.join(f1, f2))"
   ]
  },
  {
   "cell_type": "code",
   "execution_count": null,
   "metadata": {
    "scrolled": true
   },
   "outputs": [],
   "source": [
    "for i in ['00000000/GCA_000722115', '00000000/GCA_000722035', '00000000/GCA_000722095', '00000000/GCA_000722275', '00000000/GCA_000716285', \n",
    "          '00000000/GCA_000722415', '00000000/GCA_000722025']:\n",
    "    print(list(sorted(os.listdir(os.path.join(base_path, i)))))"
   ]
  },
  {
   "cell_type": "markdown",
   "metadata": {},
   "source": [
    "Not useful in the end as those genomes are filtered out from the release.\n",
    "I am going to load first the SGB table to get the actual lists of genomes and MAGs.\n",
    "Then I am going to load the datamap file to get the location for thos genomes and MAGs.\n",
    "Then I am going to use the location to load the `.annotated_gff` file.\n",
    "\n",
    "---"
   ]
  },
  {
   "cell_type": "markdown",
   "metadata": {},
   "source": [
    "# Get the UniRef50 numbers"
   ]
  },
  {
   "cell_type": "code",
   "execution_count": 2,
   "metadata": {},
   "outputs": [],
   "source": [
    "base_path = '/shares/CIBIO-Storage/CM/scratch/databases/MetaRefSGB'"
   ]
  },
  {
   "cell_type": "markdown",
   "metadata": {},
   "source": [
    "## Load the SGB table"
   ]
  },
  {
   "cell_type": "code",
   "execution_count": 3,
   "metadata": {},
   "outputs": [
    {
     "data": {
      "text/html": [
       "<div>\n",
       "<style scoped>\n",
       "    .dataframe tbody tr th:only-of-type {\n",
       "        vertical-align: middle;\n",
       "    }\n",
       "\n",
       "    .dataframe tbody tr th {\n",
       "        vertical-align: top;\n",
       "    }\n",
       "\n",
       "    .dataframe thead th {\n",
       "        text-align: right;\n",
       "    }\n",
       "</style>\n",
       "<table border=\"1\" class=\"dataframe\">\n",
       "  <thead>\n",
       "    <tr style=\"text-align: right;\">\n",
       "      <th></th>\n",
       "      <th># Label</th>\n",
       "      <th>ID</th>\n",
       "      <th>Number of reconstructed genomes</th>\n",
       "      <th>Number of reference genomes</th>\n",
       "      <th>List of reconstructed genomes</th>\n",
       "      <th>List of reference genomes</th>\n",
       "      <th>SGB centroid</th>\n",
       "      <th>Unknown</th>\n",
       "      <th>Level of assigned taxonomy</th>\n",
       "      <th>Assigned taxonomy</th>\n",
       "      <th>Assigned taxonomic ID</th>\n",
       "      <th>Number of Alternative taxonomies</th>\n",
       "      <th>List of alternative taxonomies</th>\n",
       "      <th>List of alternative taxonomic IDs</th>\n",
       "    </tr>\n",
       "  </thead>\n",
       "  <tbody>\n",
       "    <tr>\n",
       "      <th>0</th>\n",
       "      <td>SGB</td>\n",
       "      <td>1</td>\n",
       "      <td>2</td>\n",
       "      <td>0</td>\n",
       "      <td>GCA_001872325,GCA_002790905</td>\n",
       "      <td>-</td>\n",
       "      <td>GCA_001872325</td>\n",
       "      <td>uSGB</td>\n",
       "      <td>Other</td>\n",
       "      <td>k__Bacteria|p__Firmicutes|c__CFGB1|o__OFGB1|f_...</td>\n",
       "      <td>2|1239|||||</td>\n",
       "      <td>6</td>\n",
       "      <td>k__Bacteria|p__Firmicutes:5,k__Archaea|p__Nano...</td>\n",
       "      <td>2|1239:5,2157|192989:1</td>\n",
       "    </tr>\n",
       "    <tr>\n",
       "      <th>1</th>\n",
       "      <td>SGB</td>\n",
       "      <td>2</td>\n",
       "      <td>3</td>\n",
       "      <td>0</td>\n",
       "      <td>GCA_001872185,GCA_002763105,GCA_002792685</td>\n",
       "      <td>-</td>\n",
       "      <td>GCA_002792685</td>\n",
       "      <td>uSGB</td>\n",
       "      <td>Other</td>\n",
       "      <td>k__Archaea|p__Nanoarchaeota|c__CFGB1|o__OFGB1|...</td>\n",
       "      <td>2157|192989|||||</td>\n",
       "      <td>3</td>\n",
       "      <td>k__Archaea|p__Nanoarchaeota:3</td>\n",
       "      <td>2157|192989:3</td>\n",
       "    </tr>\n",
       "    <tr>\n",
       "      <th>2</th>\n",
       "      <td>SGB</td>\n",
       "      <td>4</td>\n",
       "      <td>1</td>\n",
       "      <td>0</td>\n",
       "      <td>GCA_002763165</td>\n",
       "      <td>-</td>\n",
       "      <td>GCA_002763165</td>\n",
       "      <td>uSGB</td>\n",
       "      <td>Other</td>\n",
       "      <td>k__Bacteria|p__Proteobacteria|c__CFGB2|o__OFGB...</td>\n",
       "      <td>2|1224|||||</td>\n",
       "      <td>17</td>\n",
       "      <td>k__Bacteria|p__Proteobacteria:11,k__Bacteria|p...</td>\n",
       "      <td>2|1224:11,2|1117:2,2|544448:1,2|203691:1,2157|...</td>\n",
       "    </tr>\n",
       "    <tr>\n",
       "      <th>3</th>\n",
       "      <td>SGB</td>\n",
       "      <td>5</td>\n",
       "      <td>1</td>\n",
       "      <td>0</td>\n",
       "      <td>GCA_002763075</td>\n",
       "      <td>-</td>\n",
       "      <td>GCA_002763075</td>\n",
       "      <td>uSGB</td>\n",
       "      <td>Other</td>\n",
       "      <td>k__Bacteria|p__Firmicutes|c__CFGB3|o__OFGB3|f_...</td>\n",
       "      <td>2|1239|||||</td>\n",
       "      <td>4</td>\n",
       "      <td>k__Bacteria|p__Firmicutes:2,k__Bacteria|p__Fus...</td>\n",
       "      <td>2|1239:2,2|32066:1,2|544448:1</td>\n",
       "    </tr>\n",
       "    <tr>\n",
       "      <th>4</th>\n",
       "      <td>SGB</td>\n",
       "      <td>8</td>\n",
       "      <td>1</td>\n",
       "      <td>0</td>\n",
       "      <td>GCA_002779075</td>\n",
       "      <td>-</td>\n",
       "      <td>GCA_002779075</td>\n",
       "      <td>uSGB</td>\n",
       "      <td>Other</td>\n",
       "      <td>k__Archaea|p__Candidatus_Diapherotrites|c__CFG...</td>\n",
       "      <td>2157|743725|||||</td>\n",
       "      <td>1</td>\n",
       "      <td>k__Archaea|p__Candidatus_Diapherotrites:1</td>\n",
       "      <td>2157|743725:1</td>\n",
       "    </tr>\n",
       "  </tbody>\n",
       "</table>\n",
       "</div>"
      ],
      "text/plain": [
       "  # Label  ID  Number of reconstructed genomes  Number of reference genomes  \\\n",
       "0     SGB   1                                2                            0   \n",
       "1     SGB   2                                3                            0   \n",
       "2     SGB   4                                1                            0   \n",
       "3     SGB   5                                1                            0   \n",
       "4     SGB   8                                1                            0   \n",
       "\n",
       "               List of reconstructed genomes List of reference genomes  \\\n",
       "0                GCA_001872325,GCA_002790905                         -   \n",
       "1  GCA_001872185,GCA_002763105,GCA_002792685                         -   \n",
       "2                              GCA_002763165                         -   \n",
       "3                              GCA_002763075                         -   \n",
       "4                              GCA_002779075                         -   \n",
       "\n",
       "    SGB centroid Unknown Level of assigned taxonomy  \\\n",
       "0  GCA_001872325    uSGB                      Other   \n",
       "1  GCA_002792685    uSGB                      Other   \n",
       "2  GCA_002763165    uSGB                      Other   \n",
       "3  GCA_002763075    uSGB                      Other   \n",
       "4  GCA_002779075    uSGB                      Other   \n",
       "\n",
       "                                   Assigned taxonomy Assigned taxonomic ID  \\\n",
       "0  k__Bacteria|p__Firmicutes|c__CFGB1|o__OFGB1|f_...           2|1239|||||   \n",
       "1  k__Archaea|p__Nanoarchaeota|c__CFGB1|o__OFGB1|...      2157|192989|||||   \n",
       "2  k__Bacteria|p__Proteobacteria|c__CFGB2|o__OFGB...           2|1224|||||   \n",
       "3  k__Bacteria|p__Firmicutes|c__CFGB3|o__OFGB3|f_...           2|1239|||||   \n",
       "4  k__Archaea|p__Candidatus_Diapherotrites|c__CFG...      2157|743725|||||   \n",
       "\n",
       "   Number of Alternative taxonomies  \\\n",
       "0                                 6   \n",
       "1                                 3   \n",
       "2                                17   \n",
       "3                                 4   \n",
       "4                                 1   \n",
       "\n",
       "                      List of alternative taxonomies  \\\n",
       "0  k__Bacteria|p__Firmicutes:5,k__Archaea|p__Nano...   \n",
       "1                      k__Archaea|p__Nanoarchaeota:3   \n",
       "2  k__Bacteria|p__Proteobacteria:11,k__Bacteria|p...   \n",
       "3  k__Bacteria|p__Firmicutes:2,k__Bacteria|p__Fus...   \n",
       "4          k__Archaea|p__Candidatus_Diapherotrites:1   \n",
       "\n",
       "                   List of alternative taxonomic IDs  \n",
       "0                             2|1239:5,2157|192989:1  \n",
       "1                                      2157|192989:3  \n",
       "2  2|1224:11,2|1117:2,2|544448:1,2|203691:1,2157|...  \n",
       "3                      2|1239:2,2|32066:1,2|544448:1  \n",
       "4                                      2157|743725:1  "
      ]
     },
     "execution_count": 3,
     "metadata": {},
     "output_type": "execute_result"
    }
   ],
   "source": [
    "sgb_table = pd.read_table(os.path.join(base_path, 'releases/Jan21/SGB.Jan21.txt.bz2'), skiprows=[0, 1, 2, 3])\n",
    "sgb_table.head()"
   ]
  },
  {
   "cell_type": "code",
   "execution_count": 4,
   "metadata": {},
   "outputs": [
    {
     "data": {
      "text/plain": [
       "729195"
      ]
     },
     "execution_count": 4,
     "metadata": {},
     "output_type": "execute_result"
    }
   ],
   "source": [
    "genomes_list = [gen for gen_list in sgb_table[sgb_table['# Label'] == 'SGB']['List of reconstructed genomes'].values \n",
    "                    for gen in gen_list.split(',') if gen != '-']\n",
    "genomes_list += [mag for mag_list in sgb_table[sgb_table['# Label'] == 'SGB']['List of reference genomes'].values \n",
    "                     for mag in mag_list.split(',') if mag != '-']\n",
    "len(genomes_list)"
   ]
  },
  {
   "cell_type": "markdown",
   "metadata": {},
   "source": [
    "## Load the datamap"
   ]
  },
  {
   "cell_type": "code",
   "execution_count": 5,
   "metadata": {},
   "outputs": [
    {
     "data": {
      "text/html": [
       "<div>\n",
       "<style scoped>\n",
       "    .dataframe tbody tr th:only-of-type {\n",
       "        vertical-align: middle;\n",
       "    }\n",
       "\n",
       "    .dataframe tbody tr th {\n",
       "        vertical-align: top;\n",
       "    }\n",
       "\n",
       "    .dataframe thead th {\n",
       "        text-align: right;\n",
       "    }\n",
       "</style>\n",
       "<table border=\"1\" class=\"dataframe\">\n",
       "  <thead>\n",
       "    <tr style=\"text-align: right;\">\n",
       "      <th></th>\n",
       "      <th># file_name</th>\n",
       "      <th>file_path</th>\n",
       "    </tr>\n",
       "  </thead>\n",
       "  <tbody>\n",
       "    <tr>\n",
       "      <th>0</th>\n",
       "      <td>NayfachS_2020__GEM_3300006298__bin.3</td>\n",
       "      <td>/resources/Jan21/MAGs/00000027/NayfachS_2020__...</td>\n",
       "    </tr>\n",
       "    <tr>\n",
       "      <th>1</th>\n",
       "      <td>NayfachS_2020__GEM_3300006045__bin.166</td>\n",
       "      <td>/resources/Jan21/MAGs/00000027/NayfachS_2020__...</td>\n",
       "    </tr>\n",
       "    <tr>\n",
       "      <th>2</th>\n",
       "      <td>NayfachS_2020__GEM_3300006294__bin.9</td>\n",
       "      <td>/resources/Jan21/MAGs/00000027/NayfachS_2020__...</td>\n",
       "    </tr>\n",
       "    <tr>\n",
       "      <th>3</th>\n",
       "      <td>NayfachS_2020__GEM_3300006303__bin.6</td>\n",
       "      <td>/resources/Jan21/MAGs/00000027/NayfachS_2020__...</td>\n",
       "    </tr>\n",
       "    <tr>\n",
       "      <th>4</th>\n",
       "      <td>NayfachS_2020__GEM_3300006499__bin.13</td>\n",
       "      <td>/resources/Jan21/MAGs/00000027/NayfachS_2020__...</td>\n",
       "    </tr>\n",
       "  </tbody>\n",
       "</table>\n",
       "</div>"
      ],
      "text/plain": [
       "                              # file_name  \\\n",
       "0    NayfachS_2020__GEM_3300006298__bin.3   \n",
       "1  NayfachS_2020__GEM_3300006045__bin.166   \n",
       "2    NayfachS_2020__GEM_3300006294__bin.9   \n",
       "3    NayfachS_2020__GEM_3300006303__bin.6   \n",
       "4   NayfachS_2020__GEM_3300006499__bin.13   \n",
       "\n",
       "                                           file_path  \n",
       "0  /resources/Jan21/MAGs/00000027/NayfachS_2020__...  \n",
       "1  /resources/Jan21/MAGs/00000027/NayfachS_2020__...  \n",
       "2  /resources/Jan21/MAGs/00000027/NayfachS_2020__...  \n",
       "3  /resources/Jan21/MAGs/00000027/NayfachS_2020__...  \n",
       "4  /resources/Jan21/MAGs/00000027/NayfachS_2020__...  "
      ]
     },
     "execution_count": 5,
     "metadata": {},
     "output_type": "execute_result"
    }
   ],
   "source": [
    "sgb_datamap = pd.read_table(os.path.join(base_path, 'releases/Jan21/datamap.txt'))\n",
    "sgb_datamap.head()"
   ]
  },
  {
   "cell_type": "code",
   "execution_count": 6,
   "metadata": {},
   "outputs": [
    {
     "data": {
      "text/plain": [
       "((1008070, 2), (729195, 2))"
      ]
     },
     "execution_count": 6,
     "metadata": {},
     "output_type": "execute_result"
    }
   ],
   "source": [
    "sgb_datamap.shape, sgb_datamap[sgb_datamap['# file_name'].isin(genomes_list)].shape"
   ]
  },
  {
   "cell_type": "markdown",
   "metadata": {},
   "source": [
    "## Load the PREDICT1 names mapping"
   ]
  },
  {
   "cell_type": "code",
   "execution_count": 7,
   "metadata": {},
   "outputs": [],
   "source": [
    "P1_map = dict([(i.strip().split(',')[1], i.split(',')[0]) \n",
    "               for i in open('/shares/CIBIO-Storage/CM/scratch/databases/chocophlansgb/releases/All/mapping_zoe_mags.csv')])"
   ]
  },
  {
   "cell_type": "markdown",
   "metadata": {},
   "source": [
    "## Look for missing annotated GFF files"
   ]
  },
  {
   "cell_type": "code",
   "execution_count": 15,
   "metadata": {
    "scrolled": true
   },
   "outputs": [],
   "source": [
    "f = open('missing_annotated_gff_2.tsv', 'w')\n",
    "f.write('#genome\\tdatamap_path\\tGFF_path\\n')\n",
    "\n",
    "for genm, path in sgb_datamap[sgb_datamap['# file_name'].isin(genomes_list)].values:\n",
    "    gff_path = '{}/resources/{}/{}'.format(base_path, path.split('/')[2], 'annotations' if path.split('/')[3] == 'MAGs' else 'genomes_annotations')\n",
    "    prokka_fld = [i for i in os.listdir(gff_path) if 'prokka' in i.lower()][0]  # there must be a \"prokka-x.xx\" folder\n",
    "    gff_path += '/{}/{}'.format(prokka_fld, path.split('/')[4])\n",
    "\n",
    "    # if it is a PREDICT1 sample it needs to be mapped to its old name, not always though!\n",
    "    if genm in P1_map:\n",
    "        if os.path.isfile(gff_path + '/{0}/{0}.annotated_gff'.format(P1_map[genm])):\n",
    "            continue\n",
    "\n",
    "    gff_path += '/{0}/{0}.annotated_gff'.format(genm)\n",
    "\n",
    "    if not os.path.isfile(gff_path):\n",
    "        f.write('\\t'.join([genm, path, gff_path]) + '\\n')\n",
    "\n",
    "f.close()"
   ]
  },
  {
   "cell_type": "markdown",
   "metadata": {},
   "source": [
    "## Get UniRef90 and UniRef50 from GFFs "
   ]
  },
  {
   "cell_type": "code",
   "execution_count": null,
   "metadata": {
    "scrolled": true
   },
   "outputs": [],
   "source": [
    "genm_2_ur50 = {}\n",
    "genm_2_ur90 = {}\n",
    "\n",
    "for genm, path in sgb_datamap[sgb_datamap['# file_name'].isin(genomes_list)].values:\n",
    "    gff_path = '{}/resources/{}/{}'.format(base_path, path.split('/')[2], 'annotations' if path.split('/')[3] == 'MAGs' else 'genomes_annotations')\n",
    "    prokka_fld = [i for i in os.listdir(gff_path) if 'prokka' in i.lower()][0]  # there must be a \"prokka-x.xx\" folder\n",
    "    genm = P1_map[genm] if genm in P1_map else genm  # if it is a PREDICT1 sample it needs to be mapped to its old name\n",
    "    gff_path = os.path.join(gff_path, prokka_fld, path.split('/')[4], genm, genm + '.annotated_gff')\n",
    "    genm_2_ur50[genm] = set()\n",
    "    genm_2_ur90[genm] = set()\n",
    "\n",
    "    with open(gff_path) as f:\n",
    "        for r in f:\n",
    "            if r.startswith('#') or len(r.strip().split('\\t')) != 9:\n",
    "                continue\n",
    "\n",
    "            ur50s = [i for i in r.strip().split('\\t')[8].split(';') if 'UniRef50' in i]\n",
    "            ur90s = [i for i in r.strip().split('\\t')[8].split(';') if 'UniRef90' in i]\n",
    "\n",
    "            if ur50s:\n",
    "                ur50 = ur50s[0].split('=')[1]  # should only have one and should be in the format 'UniRef50=UniRef50_ID'\n",
    "\n",
    "                if 'unknown' not in ur50:\n",
    "                    genm_2_ur50[genm] |= set([ur50])\n",
    "\n",
    "            if ur90s:\n",
    "                ur90 = ur90s[0].split('=')[1]  # should only have one and should be in the format 'UniRef90=UniRef90_ID'\n",
    "\n",
    "                if 'unknown' not in ur90:\n",
    "                    genm_2_ur90[genm] |= set([ur90])"
   ]
  },
  {
   "cell_type": "code",
   "execution_count": null,
   "metadata": {},
   "outputs": [],
   "source": []
  }
 ],
 "metadata": {
  "kernelspec": {
   "display_name": "Python 3",
   "language": "python",
   "name": "python3"
  },
  "language_info": {
   "codemirror_mode": {
    "name": "ipython",
    "version": 3
   },
   "file_extension": ".py",
   "mimetype": "text/x-python",
   "name": "python",
   "nbconvert_exporter": "python",
   "pygments_lexer": "ipython3",
   "version": "3.6.7"
  },
  "toc": {
   "base_numbering": 1,
   "nav_menu": {},
   "number_sections": true,
   "sideBar": true,
   "skip_h1_title": false,
   "title_cell": "Table of Contents",
   "title_sidebar": "Contents",
   "toc_cell": false,
   "toc_position": {
    "height": "calc(100% - 180px)",
    "left": "10px",
    "top": "150px",
    "width": "280.797px"
   },
   "toc_section_display": true,
   "toc_window_display": true
  }
 },
 "nbformat": 4,
 "nbformat_minor": 2
}
